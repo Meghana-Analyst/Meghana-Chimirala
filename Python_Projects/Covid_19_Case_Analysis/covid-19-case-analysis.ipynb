{
 "cells": [
  {
   "cell_type": "markdown",
   "id": "19bd91d6",
   "metadata": {
    "execution": {
     "iopub.execute_input": "2024-04-28T10:15:18.786164Z",
     "iopub.status.busy": "2024-04-28T10:15:18.785118Z",
     "iopub.status.idle": "2024-04-28T10:15:19.244272Z",
     "shell.execute_reply": "2024-04-28T10:15:19.243130Z",
     "shell.execute_reply.started": "2024-04-28T10:15:18.786133Z"
    },
    "papermill": {
     "duration": 0.011645,
     "end_time": "2024-04-29T09:26:10.963330",
     "exception": false,
     "start_time": "2024-04-29T09:26:10.951685",
     "status": "completed"
    },
    "tags": []
   },
   "source": [
    "**Hi! In this EDA Project we will be performing worldwide COVID-19 dataset analysis which is present on kaggle platform, we will be using various libraries to analyse and visualize the dataset. Visualization is a key process which helps the developers to interact and better understand the dataset**"
   ]
  },
  {
   "cell_type": "markdown",
   "id": "a7b478ac",
   "metadata": {
    "papermill": {
     "duration": 0.010431,
     "end_time": "2024-04-29T09:26:10.984714",
     "exception": false,
     "start_time": "2024-04-29T09:26:10.974283",
     "status": "completed"
    },
    "tags": []
   },
   "source": [
    "**Importing the Libraries**"
   ]
  },
  {
   "cell_type": "code",
   "execution_count": 1,
   "id": "56347081",
   "metadata": {
    "execution": {
     "iopub.execute_input": "2024-04-29T09:26:11.008829Z",
     "iopub.status.busy": "2024-04-29T09:26:11.007828Z",
     "iopub.status.idle": "2024-04-29T09:26:12.058130Z",
     "shell.execute_reply": "2024-04-29T09:26:12.056490Z"
    },
    "papermill": {
     "duration": 1.065562,
     "end_time": "2024-04-29T09:26:12.061153",
     "exception": false,
     "start_time": "2024-04-29T09:26:10.995591",
     "status": "completed"
    },
    "tags": []
   },
   "outputs": [],
   "source": [
    "import numpy as np\n",
    "import pandas as pd\n",
    "import matplotlib.pyplot as plt "
   ]
  },
  {
   "cell_type": "markdown",
   "id": "e0903c52",
   "metadata": {
    "papermill": {
     "duration": 0.010372,
     "end_time": "2024-04-29T09:26:12.082500",
     "exception": false,
     "start_time": "2024-04-29T09:26:12.072128",
     "status": "completed"
    },
    "tags": []
   },
   "source": [
    "**Now we will import the dataset and read it in the form of csv**"
   ]
  },
  {
   "cell_type": "code",
   "execution_count": 2,
   "id": "1ddadee7",
   "metadata": {
    "execution": {
     "iopub.execute_input": "2024-04-29T09:26:12.105601Z",
     "iopub.status.busy": "2024-04-29T09:26:12.105117Z",
     "iopub.status.idle": "2024-04-29T09:26:12.165855Z",
     "shell.execute_reply": "2024-04-29T09:26:12.164609Z"
    },
    "papermill": {
     "duration": 0.075463,
     "end_time": "2024-04-29T09:26:12.168689",
     "exception": false,
     "start_time": "2024-04-29T09:26:12.093226",
     "status": "completed"
    },
    "tags": []
   },
   "outputs": [
    {
     "data": {
      "text/html": [
       "<div>\n",
       "<style scoped>\n",
       "    .dataframe tbody tr th:only-of-type {\n",
       "        vertical-align: middle;\n",
       "    }\n",
       "\n",
       "    .dataframe tbody tr th {\n",
       "        vertical-align: top;\n",
       "    }\n",
       "\n",
       "    .dataframe thead th {\n",
       "        text-align: right;\n",
       "    }\n",
       "</style>\n",
       "<table border=\"1\" class=\"dataframe\">\n",
       "  <thead>\n",
       "    <tr style=\"text-align: right;\">\n",
       "      <th></th>\n",
       "      <th>Confirmed</th>\n",
       "      <th>Deaths</th>\n",
       "      <th>Recovered</th>\n",
       "      <th>Active</th>\n",
       "      <th>New cases</th>\n",
       "      <th>New deaths</th>\n",
       "      <th>New recovered</th>\n",
       "      <th>Deaths / 100 Cases</th>\n",
       "      <th>Recovered / 100 Cases</th>\n",
       "      <th>Deaths / 100 Recovered</th>\n",
       "      <th>Confirmed last week</th>\n",
       "      <th>1 week change</th>\n",
       "      <th>1 week % increase</th>\n",
       "      <th>WHO Region</th>\n",
       "    </tr>\n",
       "    <tr>\n",
       "      <th>Country/Region</th>\n",
       "      <th></th>\n",
       "      <th></th>\n",
       "      <th></th>\n",
       "      <th></th>\n",
       "      <th></th>\n",
       "      <th></th>\n",
       "      <th></th>\n",
       "      <th></th>\n",
       "      <th></th>\n",
       "      <th></th>\n",
       "      <th></th>\n",
       "      <th></th>\n",
       "      <th></th>\n",
       "      <th></th>\n",
       "    </tr>\n",
       "  </thead>\n",
       "  <tbody>\n",
       "    <tr>\n",
       "      <th>Afghanistan</th>\n",
       "      <td>36263</td>\n",
       "      <td>1269</td>\n",
       "      <td>25198</td>\n",
       "      <td>9796</td>\n",
       "      <td>106</td>\n",
       "      <td>10</td>\n",
       "      <td>18</td>\n",
       "      <td>3.50</td>\n",
       "      <td>69.49</td>\n",
       "      <td>5.04</td>\n",
       "      <td>35526</td>\n",
       "      <td>737</td>\n",
       "      <td>2.07</td>\n",
       "      <td>Eastern Mediterranean</td>\n",
       "    </tr>\n",
       "    <tr>\n",
       "      <th>Albania</th>\n",
       "      <td>4880</td>\n",
       "      <td>144</td>\n",
       "      <td>2745</td>\n",
       "      <td>1991</td>\n",
       "      <td>117</td>\n",
       "      <td>6</td>\n",
       "      <td>63</td>\n",
       "      <td>2.95</td>\n",
       "      <td>56.25</td>\n",
       "      <td>5.25</td>\n",
       "      <td>4171</td>\n",
       "      <td>709</td>\n",
       "      <td>17.00</td>\n",
       "      <td>Europe</td>\n",
       "    </tr>\n",
       "    <tr>\n",
       "      <th>Algeria</th>\n",
       "      <td>27973</td>\n",
       "      <td>1163</td>\n",
       "      <td>18837</td>\n",
       "      <td>7973</td>\n",
       "      <td>616</td>\n",
       "      <td>8</td>\n",
       "      <td>749</td>\n",
       "      <td>4.16</td>\n",
       "      <td>67.34</td>\n",
       "      <td>6.17</td>\n",
       "      <td>23691</td>\n",
       "      <td>4282</td>\n",
       "      <td>18.07</td>\n",
       "      <td>Africa</td>\n",
       "    </tr>\n",
       "    <tr>\n",
       "      <th>Andorra</th>\n",
       "      <td>907</td>\n",
       "      <td>52</td>\n",
       "      <td>803</td>\n",
       "      <td>52</td>\n",
       "      <td>10</td>\n",
       "      <td>0</td>\n",
       "      <td>0</td>\n",
       "      <td>5.73</td>\n",
       "      <td>88.53</td>\n",
       "      <td>6.48</td>\n",
       "      <td>884</td>\n",
       "      <td>23</td>\n",
       "      <td>2.60</td>\n",
       "      <td>Europe</td>\n",
       "    </tr>\n",
       "    <tr>\n",
       "      <th>Angola</th>\n",
       "      <td>950</td>\n",
       "      <td>41</td>\n",
       "      <td>242</td>\n",
       "      <td>667</td>\n",
       "      <td>18</td>\n",
       "      <td>1</td>\n",
       "      <td>0</td>\n",
       "      <td>4.32</td>\n",
       "      <td>25.47</td>\n",
       "      <td>16.94</td>\n",
       "      <td>749</td>\n",
       "      <td>201</td>\n",
       "      <td>26.84</td>\n",
       "      <td>Africa</td>\n",
       "    </tr>\n",
       "    <tr>\n",
       "      <th>...</th>\n",
       "      <td>...</td>\n",
       "      <td>...</td>\n",
       "      <td>...</td>\n",
       "      <td>...</td>\n",
       "      <td>...</td>\n",
       "      <td>...</td>\n",
       "      <td>...</td>\n",
       "      <td>...</td>\n",
       "      <td>...</td>\n",
       "      <td>...</td>\n",
       "      <td>...</td>\n",
       "      <td>...</td>\n",
       "      <td>...</td>\n",
       "      <td>...</td>\n",
       "    </tr>\n",
       "    <tr>\n",
       "      <th>West Bank and Gaza</th>\n",
       "      <td>10621</td>\n",
       "      <td>78</td>\n",
       "      <td>3752</td>\n",
       "      <td>6791</td>\n",
       "      <td>152</td>\n",
       "      <td>2</td>\n",
       "      <td>0</td>\n",
       "      <td>0.73</td>\n",
       "      <td>35.33</td>\n",
       "      <td>2.08</td>\n",
       "      <td>8916</td>\n",
       "      <td>1705</td>\n",
       "      <td>19.12</td>\n",
       "      <td>Eastern Mediterranean</td>\n",
       "    </tr>\n",
       "    <tr>\n",
       "      <th>Western Sahara</th>\n",
       "      <td>10</td>\n",
       "      <td>1</td>\n",
       "      <td>8</td>\n",
       "      <td>1</td>\n",
       "      <td>0</td>\n",
       "      <td>0</td>\n",
       "      <td>0</td>\n",
       "      <td>10.00</td>\n",
       "      <td>80.00</td>\n",
       "      <td>12.50</td>\n",
       "      <td>10</td>\n",
       "      <td>0</td>\n",
       "      <td>0.00</td>\n",
       "      <td>Africa</td>\n",
       "    </tr>\n",
       "    <tr>\n",
       "      <th>Yemen</th>\n",
       "      <td>1691</td>\n",
       "      <td>483</td>\n",
       "      <td>833</td>\n",
       "      <td>375</td>\n",
       "      <td>10</td>\n",
       "      <td>4</td>\n",
       "      <td>36</td>\n",
       "      <td>28.56</td>\n",
       "      <td>49.26</td>\n",
       "      <td>57.98</td>\n",
       "      <td>1619</td>\n",
       "      <td>72</td>\n",
       "      <td>4.45</td>\n",
       "      <td>Eastern Mediterranean</td>\n",
       "    </tr>\n",
       "    <tr>\n",
       "      <th>Zambia</th>\n",
       "      <td>4552</td>\n",
       "      <td>140</td>\n",
       "      <td>2815</td>\n",
       "      <td>1597</td>\n",
       "      <td>71</td>\n",
       "      <td>1</td>\n",
       "      <td>465</td>\n",
       "      <td>3.08</td>\n",
       "      <td>61.84</td>\n",
       "      <td>4.97</td>\n",
       "      <td>3326</td>\n",
       "      <td>1226</td>\n",
       "      <td>36.86</td>\n",
       "      <td>Africa</td>\n",
       "    </tr>\n",
       "    <tr>\n",
       "      <th>Zimbabwe</th>\n",
       "      <td>2704</td>\n",
       "      <td>36</td>\n",
       "      <td>542</td>\n",
       "      <td>2126</td>\n",
       "      <td>192</td>\n",
       "      <td>2</td>\n",
       "      <td>24</td>\n",
       "      <td>1.33</td>\n",
       "      <td>20.04</td>\n",
       "      <td>6.64</td>\n",
       "      <td>1713</td>\n",
       "      <td>991</td>\n",
       "      <td>57.85</td>\n",
       "      <td>Africa</td>\n",
       "    </tr>\n",
       "  </tbody>\n",
       "</table>\n",
       "<p>187 rows × 14 columns</p>\n",
       "</div>"
      ],
      "text/plain": [
       "                    Confirmed  Deaths  Recovered  Active  New cases  \\\n",
       "Country/Region                                                        \n",
       "Afghanistan             36263    1269      25198    9796        106   \n",
       "Albania                  4880     144       2745    1991        117   \n",
       "Algeria                 27973    1163      18837    7973        616   \n",
       "Andorra                   907      52        803      52         10   \n",
       "Angola                    950      41        242     667         18   \n",
       "...                       ...     ...        ...     ...        ...   \n",
       "West Bank and Gaza      10621      78       3752    6791        152   \n",
       "Western Sahara             10       1          8       1          0   \n",
       "Yemen                    1691     483        833     375         10   \n",
       "Zambia                   4552     140       2815    1597         71   \n",
       "Zimbabwe                 2704      36        542    2126        192   \n",
       "\n",
       "                    New deaths  New recovered  Deaths / 100 Cases  \\\n",
       "Country/Region                                                      \n",
       "Afghanistan                 10             18                3.50   \n",
       "Albania                      6             63                2.95   \n",
       "Algeria                      8            749                4.16   \n",
       "Andorra                      0              0                5.73   \n",
       "Angola                       1              0                4.32   \n",
       "...                        ...            ...                 ...   \n",
       "West Bank and Gaza           2              0                0.73   \n",
       "Western Sahara               0              0               10.00   \n",
       "Yemen                        4             36               28.56   \n",
       "Zambia                       1            465                3.08   \n",
       "Zimbabwe                     2             24                1.33   \n",
       "\n",
       "                    Recovered / 100 Cases  Deaths / 100 Recovered  \\\n",
       "Country/Region                                                      \n",
       "Afghanistan                         69.49                    5.04   \n",
       "Albania                             56.25                    5.25   \n",
       "Algeria                             67.34                    6.17   \n",
       "Andorra                             88.53                    6.48   \n",
       "Angola                              25.47                   16.94   \n",
       "...                                   ...                     ...   \n",
       "West Bank and Gaza                  35.33                    2.08   \n",
       "Western Sahara                      80.00                   12.50   \n",
       "Yemen                               49.26                   57.98   \n",
       "Zambia                              61.84                    4.97   \n",
       "Zimbabwe                            20.04                    6.64   \n",
       "\n",
       "                    Confirmed last week  1 week change  1 week % increase  \\\n",
       "Country/Region                                                              \n",
       "Afghanistan                       35526            737               2.07   \n",
       "Albania                            4171            709              17.00   \n",
       "Algeria                           23691           4282              18.07   \n",
       "Andorra                             884             23               2.60   \n",
       "Angola                              749            201              26.84   \n",
       "...                                 ...            ...                ...   \n",
       "West Bank and Gaza                 8916           1705              19.12   \n",
       "Western Sahara                       10              0               0.00   \n",
       "Yemen                              1619             72               4.45   \n",
       "Zambia                             3326           1226              36.86   \n",
       "Zimbabwe                           1713            991              57.85   \n",
       "\n",
       "                               WHO Region  \n",
       "Country/Region                             \n",
       "Afghanistan         Eastern Mediterranean  \n",
       "Albania                            Europe  \n",
       "Algeria                            Africa  \n",
       "Andorra                            Europe  \n",
       "Angola                             Africa  \n",
       "...                                   ...  \n",
       "West Bank and Gaza  Eastern Mediterranean  \n",
       "Western Sahara                     Africa  \n",
       "Yemen               Eastern Mediterranean  \n",
       "Zambia                             Africa  \n",
       "Zimbabwe                           Africa  \n",
       "\n",
       "[187 rows x 14 columns]"
      ]
     },
     "execution_count": 2,
     "metadata": {},
     "output_type": "execute_result"
    }
   ],
   "source": [
    "data=pd.read_csv(\"/kaggle/input/corona-virus-report/country_wise_latest.csv\",index_col='Country/Region')   #Note:Here we had set Country/Region as index \n",
    "data                                                                                                       # Note:We are reading the data"
   ]
  },
  {
   "cell_type": "markdown",
   "id": "454aecf3",
   "metadata": {
    "papermill": {
     "duration": 0.011047,
     "end_time": "2024-04-29T09:26:12.191444",
     "exception": false,
     "start_time": "2024-04-29T09:26:12.180397",
     "status": "completed"
    },
    "tags": []
   },
   "source": [
    "# Data Optimization      "
   ]
  },
  {
   "cell_type": "markdown",
   "id": "a83d225c",
   "metadata": {
    "papermill": {
     "duration": 0.010961,
     "end_time": "2024-04-29T09:26:12.214855",
     "exception": false,
     "start_time": "2024-04-29T09:26:12.203894",
     "status": "completed"
    },
    "tags": []
   },
   "source": [
    "**Data Optimization-Strategy to improve the speed and effectiveness of extracting, analyzing and using the data**"
   ]
  },
  {
   "cell_type": "code",
   "execution_count": 3,
   "id": "37502913",
   "metadata": {
    "execution": {
     "iopub.execute_input": "2024-04-29T09:26:12.239628Z",
     "iopub.status.busy": "2024-04-29T09:26:12.239097Z",
     "iopub.status.idle": "2024-04-29T09:26:12.264497Z",
     "shell.execute_reply": "2024-04-29T09:26:12.263216Z"
    },
    "papermill": {
     "duration": 0.041652,
     "end_time": "2024-04-29T09:26:12.267949",
     "exception": false,
     "start_time": "2024-04-29T09:26:12.226297",
     "status": "completed"
    },
    "tags": []
   },
   "outputs": [
    {
     "name": "stdout",
     "output_type": "stream",
     "text": [
      "<class 'pandas.core.frame.DataFrame'>\n",
      "Index: 187 entries, Afghanistan to Zimbabwe\n",
      "Data columns (total 14 columns):\n",
      " #   Column                  Non-Null Count  Dtype  \n",
      "---  ------                  --------------  -----  \n",
      " 0   Confirmed               187 non-null    int64  \n",
      " 1   Deaths                  187 non-null    int64  \n",
      " 2   Recovered               187 non-null    int64  \n",
      " 3   Active                  187 non-null    int64  \n",
      " 4   New cases               187 non-null    int64  \n",
      " 5   New deaths              187 non-null    int64  \n",
      " 6   New recovered           187 non-null    int64  \n",
      " 7   Deaths / 100 Cases      187 non-null    float64\n",
      " 8   Recovered / 100 Cases   187 non-null    float64\n",
      " 9   Deaths / 100 Recovered  187 non-null    float64\n",
      " 10  Confirmed last week     187 non-null    int64  \n",
      " 11  1 week change           187 non-null    int64  \n",
      " 12  1 week % increase       187 non-null    float64\n",
      " 13  WHO Region              187 non-null    object \n",
      "dtypes: float64(4), int64(9), object(1)\n",
      "memory usage: 21.9+ KB\n"
     ]
    }
   ],
   "source": [
    "data.info()                                   #Note:This method prints information about a DataFrame including the index dtype and columns, non-null values and memory usage.\n"
   ]
  },
  {
   "cell_type": "code",
   "execution_count": 4,
   "id": "eb5db3d7",
   "metadata": {
    "execution": {
     "iopub.execute_input": "2024-04-29T09:26:12.293742Z",
     "iopub.status.busy": "2024-04-29T09:26:12.293259Z",
     "iopub.status.idle": "2024-04-29T09:26:12.318939Z",
     "shell.execute_reply": "2024-04-29T09:26:12.317826Z"
    },
    "papermill": {
     "duration": 0.041931,
     "end_time": "2024-04-29T09:26:12.321701",
     "exception": false,
     "start_time": "2024-04-29T09:26:12.279770",
     "status": "completed"
    },
    "tags": []
   },
   "outputs": [
    {
     "data": {
      "text/html": [
       "<div>\n",
       "<style scoped>\n",
       "    .dataframe tbody tr th:only-of-type {\n",
       "        vertical-align: middle;\n",
       "    }\n",
       "\n",
       "    .dataframe tbody tr th {\n",
       "        vertical-align: top;\n",
       "    }\n",
       "\n",
       "    .dataframe thead th {\n",
       "        text-align: right;\n",
       "    }\n",
       "</style>\n",
       "<table border=\"1\" class=\"dataframe\">\n",
       "  <thead>\n",
       "    <tr style=\"text-align: right;\">\n",
       "      <th></th>\n",
       "      <th>Confirmed</th>\n",
       "      <th>Deaths</th>\n",
       "      <th>Recovered</th>\n",
       "      <th>Active</th>\n",
       "      <th>New cases</th>\n",
       "      <th>New deaths</th>\n",
       "      <th>New recovered</th>\n",
       "      <th>Deaths / 100 Cases</th>\n",
       "      <th>Recovered / 100 Cases</th>\n",
       "      <th>Deaths / 100 Recovered</th>\n",
       "      <th>Confirmed last week</th>\n",
       "      <th>1 week change</th>\n",
       "      <th>1 week % increase</th>\n",
       "      <th>WHO Region</th>\n",
       "    </tr>\n",
       "    <tr>\n",
       "      <th>Country/Region</th>\n",
       "      <th></th>\n",
       "      <th></th>\n",
       "      <th></th>\n",
       "      <th></th>\n",
       "      <th></th>\n",
       "      <th></th>\n",
       "      <th></th>\n",
       "      <th></th>\n",
       "      <th></th>\n",
       "      <th></th>\n",
       "      <th></th>\n",
       "      <th></th>\n",
       "      <th></th>\n",
       "      <th></th>\n",
       "    </tr>\n",
       "  </thead>\n",
       "  <tbody>\n",
       "    <tr>\n",
       "      <th>Afghanistan</th>\n",
       "      <td>False</td>\n",
       "      <td>False</td>\n",
       "      <td>False</td>\n",
       "      <td>False</td>\n",
       "      <td>False</td>\n",
       "      <td>False</td>\n",
       "      <td>False</td>\n",
       "      <td>False</td>\n",
       "      <td>False</td>\n",
       "      <td>False</td>\n",
       "      <td>False</td>\n",
       "      <td>False</td>\n",
       "      <td>False</td>\n",
       "      <td>False</td>\n",
       "    </tr>\n",
       "    <tr>\n",
       "      <th>Albania</th>\n",
       "      <td>False</td>\n",
       "      <td>False</td>\n",
       "      <td>False</td>\n",
       "      <td>False</td>\n",
       "      <td>False</td>\n",
       "      <td>False</td>\n",
       "      <td>False</td>\n",
       "      <td>False</td>\n",
       "      <td>False</td>\n",
       "      <td>False</td>\n",
       "      <td>False</td>\n",
       "      <td>False</td>\n",
       "      <td>False</td>\n",
       "      <td>False</td>\n",
       "    </tr>\n",
       "    <tr>\n",
       "      <th>Algeria</th>\n",
       "      <td>False</td>\n",
       "      <td>False</td>\n",
       "      <td>False</td>\n",
       "      <td>False</td>\n",
       "      <td>False</td>\n",
       "      <td>False</td>\n",
       "      <td>False</td>\n",
       "      <td>False</td>\n",
       "      <td>False</td>\n",
       "      <td>False</td>\n",
       "      <td>False</td>\n",
       "      <td>False</td>\n",
       "      <td>False</td>\n",
       "      <td>False</td>\n",
       "    </tr>\n",
       "    <tr>\n",
       "      <th>Andorra</th>\n",
       "      <td>False</td>\n",
       "      <td>False</td>\n",
       "      <td>False</td>\n",
       "      <td>False</td>\n",
       "      <td>False</td>\n",
       "      <td>False</td>\n",
       "      <td>False</td>\n",
       "      <td>False</td>\n",
       "      <td>False</td>\n",
       "      <td>False</td>\n",
       "      <td>False</td>\n",
       "      <td>False</td>\n",
       "      <td>False</td>\n",
       "      <td>False</td>\n",
       "    </tr>\n",
       "    <tr>\n",
       "      <th>Angola</th>\n",
       "      <td>False</td>\n",
       "      <td>False</td>\n",
       "      <td>False</td>\n",
       "      <td>False</td>\n",
       "      <td>False</td>\n",
       "      <td>False</td>\n",
       "      <td>False</td>\n",
       "      <td>False</td>\n",
       "      <td>False</td>\n",
       "      <td>False</td>\n",
       "      <td>False</td>\n",
       "      <td>False</td>\n",
       "      <td>False</td>\n",
       "      <td>False</td>\n",
       "    </tr>\n",
       "    <tr>\n",
       "      <th>...</th>\n",
       "      <td>...</td>\n",
       "      <td>...</td>\n",
       "      <td>...</td>\n",
       "      <td>...</td>\n",
       "      <td>...</td>\n",
       "      <td>...</td>\n",
       "      <td>...</td>\n",
       "      <td>...</td>\n",
       "      <td>...</td>\n",
       "      <td>...</td>\n",
       "      <td>...</td>\n",
       "      <td>...</td>\n",
       "      <td>...</td>\n",
       "      <td>...</td>\n",
       "    </tr>\n",
       "    <tr>\n",
       "      <th>West Bank and Gaza</th>\n",
       "      <td>False</td>\n",
       "      <td>False</td>\n",
       "      <td>False</td>\n",
       "      <td>False</td>\n",
       "      <td>False</td>\n",
       "      <td>False</td>\n",
       "      <td>False</td>\n",
       "      <td>False</td>\n",
       "      <td>False</td>\n",
       "      <td>False</td>\n",
       "      <td>False</td>\n",
       "      <td>False</td>\n",
       "      <td>False</td>\n",
       "      <td>False</td>\n",
       "    </tr>\n",
       "    <tr>\n",
       "      <th>Western Sahara</th>\n",
       "      <td>False</td>\n",
       "      <td>False</td>\n",
       "      <td>False</td>\n",
       "      <td>False</td>\n",
       "      <td>False</td>\n",
       "      <td>False</td>\n",
       "      <td>False</td>\n",
       "      <td>False</td>\n",
       "      <td>False</td>\n",
       "      <td>False</td>\n",
       "      <td>False</td>\n",
       "      <td>False</td>\n",
       "      <td>False</td>\n",
       "      <td>False</td>\n",
       "    </tr>\n",
       "    <tr>\n",
       "      <th>Yemen</th>\n",
       "      <td>False</td>\n",
       "      <td>False</td>\n",
       "      <td>False</td>\n",
       "      <td>False</td>\n",
       "      <td>False</td>\n",
       "      <td>False</td>\n",
       "      <td>False</td>\n",
       "      <td>False</td>\n",
       "      <td>False</td>\n",
       "      <td>False</td>\n",
       "      <td>False</td>\n",
       "      <td>False</td>\n",
       "      <td>False</td>\n",
       "      <td>False</td>\n",
       "    </tr>\n",
       "    <tr>\n",
       "      <th>Zambia</th>\n",
       "      <td>False</td>\n",
       "      <td>False</td>\n",
       "      <td>False</td>\n",
       "      <td>False</td>\n",
       "      <td>False</td>\n",
       "      <td>False</td>\n",
       "      <td>False</td>\n",
       "      <td>False</td>\n",
       "      <td>False</td>\n",
       "      <td>False</td>\n",
       "      <td>False</td>\n",
       "      <td>False</td>\n",
       "      <td>False</td>\n",
       "      <td>False</td>\n",
       "    </tr>\n",
       "    <tr>\n",
       "      <th>Zimbabwe</th>\n",
       "      <td>False</td>\n",
       "      <td>False</td>\n",
       "      <td>False</td>\n",
       "      <td>False</td>\n",
       "      <td>False</td>\n",
       "      <td>False</td>\n",
       "      <td>False</td>\n",
       "      <td>False</td>\n",
       "      <td>False</td>\n",
       "      <td>False</td>\n",
       "      <td>False</td>\n",
       "      <td>False</td>\n",
       "      <td>False</td>\n",
       "      <td>False</td>\n",
       "    </tr>\n",
       "  </tbody>\n",
       "</table>\n",
       "<p>187 rows × 14 columns</p>\n",
       "</div>"
      ],
      "text/plain": [
       "                    Confirmed  Deaths  Recovered  Active  New cases  \\\n",
       "Country/Region                                                        \n",
       "Afghanistan             False   False      False   False      False   \n",
       "Albania                 False   False      False   False      False   \n",
       "Algeria                 False   False      False   False      False   \n",
       "Andorra                 False   False      False   False      False   \n",
       "Angola                  False   False      False   False      False   \n",
       "...                       ...     ...        ...     ...        ...   \n",
       "West Bank and Gaza      False   False      False   False      False   \n",
       "Western Sahara          False   False      False   False      False   \n",
       "Yemen                   False   False      False   False      False   \n",
       "Zambia                  False   False      False   False      False   \n",
       "Zimbabwe                False   False      False   False      False   \n",
       "\n",
       "                    New deaths  New recovered  Deaths / 100 Cases  \\\n",
       "Country/Region                                                      \n",
       "Afghanistan              False          False               False   \n",
       "Albania                  False          False               False   \n",
       "Algeria                  False          False               False   \n",
       "Andorra                  False          False               False   \n",
       "Angola                   False          False               False   \n",
       "...                        ...            ...                 ...   \n",
       "West Bank and Gaza       False          False               False   \n",
       "Western Sahara           False          False               False   \n",
       "Yemen                    False          False               False   \n",
       "Zambia                   False          False               False   \n",
       "Zimbabwe                 False          False               False   \n",
       "\n",
       "                    Recovered / 100 Cases  Deaths / 100 Recovered  \\\n",
       "Country/Region                                                      \n",
       "Afghanistan                         False                   False   \n",
       "Albania                             False                   False   \n",
       "Algeria                             False                   False   \n",
       "Andorra                             False                   False   \n",
       "Angola                              False                   False   \n",
       "...                                   ...                     ...   \n",
       "West Bank and Gaza                  False                   False   \n",
       "Western Sahara                      False                   False   \n",
       "Yemen                               False                   False   \n",
       "Zambia                              False                   False   \n",
       "Zimbabwe                            False                   False   \n",
       "\n",
       "                    Confirmed last week  1 week change  1 week % increase  \\\n",
       "Country/Region                                                              \n",
       "Afghanistan                       False          False              False   \n",
       "Albania                           False          False              False   \n",
       "Algeria                           False          False              False   \n",
       "Andorra                           False          False              False   \n",
       "Angola                            False          False              False   \n",
       "...                                 ...            ...                ...   \n",
       "West Bank and Gaza                False          False              False   \n",
       "Western Sahara                    False          False              False   \n",
       "Yemen                             False          False              False   \n",
       "Zambia                            False          False              False   \n",
       "Zimbabwe                          False          False              False   \n",
       "\n",
       "                    WHO Region  \n",
       "Country/Region                  \n",
       "Afghanistan              False  \n",
       "Albania                  False  \n",
       "Algeria                  False  \n",
       "Andorra                  False  \n",
       "Angola                   False  \n",
       "...                        ...  \n",
       "West Bank and Gaza       False  \n",
       "Western Sahara           False  \n",
       "Yemen                    False  \n",
       "Zambia                   False  \n",
       "Zimbabwe                 False  \n",
       "\n",
       "[187 rows x 14 columns]"
      ]
     },
     "execution_count": 4,
     "metadata": {},
     "output_type": "execute_result"
    }
   ],
   "source": [
    "data.isnull()                                 #Note:The null function will detect missing values"
   ]
  },
  {
   "cell_type": "markdown",
   "id": "496fe9e1",
   "metadata": {
    "papermill": {
     "duration": 0.016985,
     "end_time": "2024-04-29T09:26:12.356475",
     "exception": false,
     "start_time": "2024-04-29T09:26:12.339490",
     "status": "completed"
    },
    "tags": []
   },
   "source": [
    "*Therefore it is conclded that the dataset has no null value which will be handy for our analysis *"
   ]
  },
  {
   "cell_type": "code",
   "execution_count": 5,
   "id": "11dfcf5f",
   "metadata": {
    "execution": {
     "iopub.execute_input": "2024-04-29T09:26:12.383436Z",
     "iopub.status.busy": "2024-04-29T09:26:12.382964Z",
     "iopub.status.idle": "2024-04-29T09:26:12.390528Z",
     "shell.execute_reply": "2024-04-29T09:26:12.389539Z"
    },
    "papermill": {
     "duration": 0.023259,
     "end_time": "2024-04-29T09:26:12.392695",
     "exception": false,
     "start_time": "2024-04-29T09:26:12.369436",
     "status": "completed"
    },
    "tags": []
   },
   "outputs": [
    {
     "data": {
      "text/plain": [
       "(187, 14)"
      ]
     },
     "execution_count": 5,
     "metadata": {},
     "output_type": "execute_result"
    }
   ],
   "source": [
    "data.shape                                    #Note:The shape return a tuple representing the dimensionality of the DataFrame"
   ]
  },
  {
   "cell_type": "code",
   "execution_count": 6,
   "id": "564240a0",
   "metadata": {
    "execution": {
     "iopub.execute_input": "2024-04-29T09:26:12.420013Z",
     "iopub.status.busy": "2024-04-29T09:26:12.419111Z",
     "iopub.status.idle": "2024-04-29T09:26:12.427269Z",
     "shell.execute_reply": "2024-04-29T09:26:12.426119Z"
    },
    "papermill": {
     "duration": 0.024798,
     "end_time": "2024-04-29T09:26:12.429655",
     "exception": false,
     "start_time": "2024-04-29T09:26:12.404857",
     "status": "completed"
    },
    "tags": []
   },
   "outputs": [
    {
     "data": {
      "text/plain": [
       "Index(['Afghanistan', 'Albania', 'Algeria', 'Andorra', 'Angola',\n",
       "       'Antigua and Barbuda', 'Argentina', 'Armenia', 'Australia', 'Austria',\n",
       "       ...\n",
       "       'United Kingdom', 'Uruguay', 'Uzbekistan', 'Venezuela', 'Vietnam',\n",
       "       'West Bank and Gaza', 'Western Sahara', 'Yemen', 'Zambia', 'Zimbabwe'],\n",
       "      dtype='object', name='Country/Region', length=187)"
      ]
     },
     "execution_count": 6,
     "metadata": {},
     "output_type": "execute_result"
    }
   ],
   "source": [
    "data.index                                   #Note:The basic object storing axis labels for all pandas objects"
   ]
  },
  {
   "cell_type": "code",
   "execution_count": 7,
   "id": "76b2c41a",
   "metadata": {
    "execution": {
     "iopub.execute_input": "2024-04-29T09:26:12.457445Z",
     "iopub.status.busy": "2024-04-29T09:26:12.456631Z",
     "iopub.status.idle": "2024-04-29T09:26:12.464532Z",
     "shell.execute_reply": "2024-04-29T09:26:12.463546Z"
    },
    "papermill": {
     "duration": 0.024789,
     "end_time": "2024-04-29T09:26:12.467247",
     "exception": false,
     "start_time": "2024-04-29T09:26:12.442458",
     "status": "completed"
    },
    "tags": []
   },
   "outputs": [
    {
     "data": {
      "text/plain": [
       "array([[36263, 1269, 25198, ..., 737, 2.07, 'Eastern Mediterranean'],\n",
       "       [4880, 144, 2745, ..., 709, 17.0, 'Europe'],\n",
       "       [27973, 1163, 18837, ..., 4282, 18.07, 'Africa'],\n",
       "       ...,\n",
       "       [1691, 483, 833, ..., 72, 4.45, 'Eastern Mediterranean'],\n",
       "       [4552, 140, 2815, ..., 1226, 36.86, 'Africa'],\n",
       "       [2704, 36, 542, ..., 991, 57.85, 'Africa']], dtype=object)"
      ]
     },
     "execution_count": 7,
     "metadata": {},
     "output_type": "execute_result"
    }
   ],
   "source": [
    "data.values                                 #Note:The values in the DataFrame will be returned"
   ]
  },
  {
   "cell_type": "code",
   "execution_count": 8,
   "id": "30748e88",
   "metadata": {
    "execution": {
     "iopub.execute_input": "2024-04-29T09:26:12.494989Z",
     "iopub.status.busy": "2024-04-29T09:26:12.494167Z",
     "iopub.status.idle": "2024-04-29T09:26:12.503681Z",
     "shell.execute_reply": "2024-04-29T09:26:12.502679Z"
    },
    "papermill": {
     "duration": 0.026176,
     "end_time": "2024-04-29T09:26:12.506031",
     "exception": false,
     "start_time": "2024-04-29T09:26:12.479855",
     "status": "completed"
    },
    "tags": []
   },
   "outputs": [
    {
     "data": {
      "text/plain": [
       "Confirmed                   int64\n",
       "Deaths                      int64\n",
       "Recovered                   int64\n",
       "Active                      int64\n",
       "New cases                   int64\n",
       "New deaths                  int64\n",
       "New recovered               int64\n",
       "Deaths / 100 Cases        float64\n",
       "Recovered / 100 Cases     float64\n",
       "Deaths / 100 Recovered    float64\n",
       "Confirmed last week         int64\n",
       "1 week change               int64\n",
       "1 week % increase         float64\n",
       "WHO Region                 object\n",
       "dtype: object"
      ]
     },
     "execution_count": 8,
     "metadata": {},
     "output_type": "execute_result"
    }
   ],
   "source": [
    "data.dtypes                               #Note:The values in the DataFrame will be returned"
   ]
  },
  {
   "cell_type": "code",
   "execution_count": 9,
   "id": "783f079b",
   "metadata": {
    "execution": {
     "iopub.execute_input": "2024-04-29T09:26:12.533848Z",
     "iopub.status.busy": "2024-04-29T09:26:12.533376Z",
     "iopub.status.idle": "2024-04-29T09:26:12.543126Z",
     "shell.execute_reply": "2024-04-29T09:26:12.541896Z"
    },
    "papermill": {
     "duration": 0.027197,
     "end_time": "2024-04-29T09:26:12.545895",
     "exception": false,
     "start_time": "2024-04-29T09:26:12.518698",
     "status": "completed"
    },
    "tags": []
   },
   "outputs": [
    {
     "data": {
      "text/plain": [
       "int64      9\n",
       "float64    4\n",
       "object     1\n",
       "Name: count, dtype: int64"
      ]
     },
     "execution_count": 9,
     "metadata": {},
     "output_type": "execute_result"
    }
   ],
   "source": [
    "data.dtypes.value_counts()                #Note:Return a Series containing counts of unique values              "
   ]
  },
  {
   "cell_type": "code",
   "execution_count": 10,
   "id": "c693382f",
   "metadata": {
    "execution": {
     "iopub.execute_input": "2024-04-29T09:26:12.573736Z",
     "iopub.status.busy": "2024-04-29T09:26:12.573264Z",
     "iopub.status.idle": "2024-04-29T09:26:12.628615Z",
     "shell.execute_reply": "2024-04-29T09:26:12.627483Z"
    },
    "papermill": {
     "duration": 0.073003,
     "end_time": "2024-04-29T09:26:12.631684",
     "exception": false,
     "start_time": "2024-04-29T09:26:12.558681",
     "status": "completed"
    },
    "tags": []
   },
   "outputs": [
    {
     "name": "stderr",
     "output_type": "stream",
     "text": [
      "/opt/conda/lib/python3.10/site-packages/pandas/core/nanops.py:1016: RuntimeWarning: invalid value encountered in subtract\n",
      "  sqr = _ensure_numeric((avg - values) ** 2)\n"
     ]
    },
    {
     "data": {
      "text/html": [
       "<div>\n",
       "<style scoped>\n",
       "    .dataframe tbody tr th:only-of-type {\n",
       "        vertical-align: middle;\n",
       "    }\n",
       "\n",
       "    .dataframe tbody tr th {\n",
       "        vertical-align: top;\n",
       "    }\n",
       "\n",
       "    .dataframe thead th {\n",
       "        text-align: right;\n",
       "    }\n",
       "</style>\n",
       "<table border=\"1\" class=\"dataframe\">\n",
       "  <thead>\n",
       "    <tr style=\"text-align: right;\">\n",
       "      <th></th>\n",
       "      <th>Confirmed</th>\n",
       "      <th>Deaths</th>\n",
       "      <th>Recovered</th>\n",
       "      <th>Active</th>\n",
       "      <th>New cases</th>\n",
       "      <th>New deaths</th>\n",
       "      <th>New recovered</th>\n",
       "      <th>Deaths / 100 Cases</th>\n",
       "      <th>Recovered / 100 Cases</th>\n",
       "      <th>Deaths / 100 Recovered</th>\n",
       "      <th>Confirmed last week</th>\n",
       "      <th>1 week change</th>\n",
       "      <th>1 week % increase</th>\n",
       "    </tr>\n",
       "  </thead>\n",
       "  <tbody>\n",
       "    <tr>\n",
       "      <th>count</th>\n",
       "      <td>1.870000e+02</td>\n",
       "      <td>187.000000</td>\n",
       "      <td>1.870000e+02</td>\n",
       "      <td>1.870000e+02</td>\n",
       "      <td>187.000000</td>\n",
       "      <td>187.000000</td>\n",
       "      <td>187.000000</td>\n",
       "      <td>187.000000</td>\n",
       "      <td>187.000000</td>\n",
       "      <td>187.00</td>\n",
       "      <td>1.870000e+02</td>\n",
       "      <td>187.000000</td>\n",
       "      <td>187.000000</td>\n",
       "    </tr>\n",
       "    <tr>\n",
       "      <th>mean</th>\n",
       "      <td>8.813094e+04</td>\n",
       "      <td>3497.518717</td>\n",
       "      <td>5.063148e+04</td>\n",
       "      <td>3.400194e+04</td>\n",
       "      <td>1222.957219</td>\n",
       "      <td>28.957219</td>\n",
       "      <td>933.812834</td>\n",
       "      <td>3.019519</td>\n",
       "      <td>64.820535</td>\n",
       "      <td>inf</td>\n",
       "      <td>7.868248e+04</td>\n",
       "      <td>9448.459893</td>\n",
       "      <td>13.606203</td>\n",
       "    </tr>\n",
       "    <tr>\n",
       "      <th>std</th>\n",
       "      <td>3.833187e+05</td>\n",
       "      <td>14100.002482</td>\n",
       "      <td>1.901882e+05</td>\n",
       "      <td>2.133262e+05</td>\n",
       "      <td>5710.374790</td>\n",
       "      <td>120.037173</td>\n",
       "      <td>4197.719635</td>\n",
       "      <td>3.454302</td>\n",
       "      <td>26.287694</td>\n",
       "      <td>NaN</td>\n",
       "      <td>3.382737e+05</td>\n",
       "      <td>47491.127684</td>\n",
       "      <td>24.509838</td>\n",
       "    </tr>\n",
       "    <tr>\n",
       "      <th>min</th>\n",
       "      <td>1.000000e+01</td>\n",
       "      <td>0.000000</td>\n",
       "      <td>0.000000e+00</td>\n",
       "      <td>0.000000e+00</td>\n",
       "      <td>0.000000</td>\n",
       "      <td>0.000000</td>\n",
       "      <td>0.000000</td>\n",
       "      <td>0.000000</td>\n",
       "      <td>0.000000</td>\n",
       "      <td>0.00</td>\n",
       "      <td>1.000000e+01</td>\n",
       "      <td>-47.000000</td>\n",
       "      <td>-3.840000</td>\n",
       "    </tr>\n",
       "    <tr>\n",
       "      <th>25%</th>\n",
       "      <td>1.114000e+03</td>\n",
       "      <td>18.500000</td>\n",
       "      <td>6.265000e+02</td>\n",
       "      <td>1.415000e+02</td>\n",
       "      <td>4.000000</td>\n",
       "      <td>0.000000</td>\n",
       "      <td>0.000000</td>\n",
       "      <td>0.945000</td>\n",
       "      <td>48.770000</td>\n",
       "      <td>1.45</td>\n",
       "      <td>1.051500e+03</td>\n",
       "      <td>49.000000</td>\n",
       "      <td>2.775000</td>\n",
       "    </tr>\n",
       "    <tr>\n",
       "      <th>50%</th>\n",
       "      <td>5.059000e+03</td>\n",
       "      <td>108.000000</td>\n",
       "      <td>2.815000e+03</td>\n",
       "      <td>1.600000e+03</td>\n",
       "      <td>49.000000</td>\n",
       "      <td>1.000000</td>\n",
       "      <td>22.000000</td>\n",
       "      <td>2.150000</td>\n",
       "      <td>71.320000</td>\n",
       "      <td>3.62</td>\n",
       "      <td>5.020000e+03</td>\n",
       "      <td>432.000000</td>\n",
       "      <td>6.890000</td>\n",
       "    </tr>\n",
       "    <tr>\n",
       "      <th>75%</th>\n",
       "      <td>4.046050e+04</td>\n",
       "      <td>734.000000</td>\n",
       "      <td>2.260600e+04</td>\n",
       "      <td>9.149000e+03</td>\n",
       "      <td>419.500000</td>\n",
       "      <td>6.000000</td>\n",
       "      <td>221.000000</td>\n",
       "      <td>3.875000</td>\n",
       "      <td>86.885000</td>\n",
       "      <td>6.44</td>\n",
       "      <td>3.708050e+04</td>\n",
       "      <td>3172.000000</td>\n",
       "      <td>16.855000</td>\n",
       "    </tr>\n",
       "    <tr>\n",
       "      <th>max</th>\n",
       "      <td>4.290259e+06</td>\n",
       "      <td>148011.000000</td>\n",
       "      <td>1.846641e+06</td>\n",
       "      <td>2.816444e+06</td>\n",
       "      <td>56336.000000</td>\n",
       "      <td>1076.000000</td>\n",
       "      <td>33728.000000</td>\n",
       "      <td>28.560000</td>\n",
       "      <td>100.000000</td>\n",
       "      <td>inf</td>\n",
       "      <td>3.834677e+06</td>\n",
       "      <td>455582.000000</td>\n",
       "      <td>226.320000</td>\n",
       "    </tr>\n",
       "  </tbody>\n",
       "</table>\n",
       "</div>"
      ],
      "text/plain": [
       "          Confirmed         Deaths     Recovered        Active     New cases  \\\n",
       "count  1.870000e+02     187.000000  1.870000e+02  1.870000e+02    187.000000   \n",
       "mean   8.813094e+04    3497.518717  5.063148e+04  3.400194e+04   1222.957219   \n",
       "std    3.833187e+05   14100.002482  1.901882e+05  2.133262e+05   5710.374790   \n",
       "min    1.000000e+01       0.000000  0.000000e+00  0.000000e+00      0.000000   \n",
       "25%    1.114000e+03      18.500000  6.265000e+02  1.415000e+02      4.000000   \n",
       "50%    5.059000e+03     108.000000  2.815000e+03  1.600000e+03     49.000000   \n",
       "75%    4.046050e+04     734.000000  2.260600e+04  9.149000e+03    419.500000   \n",
       "max    4.290259e+06  148011.000000  1.846641e+06  2.816444e+06  56336.000000   \n",
       "\n",
       "        New deaths  New recovered  Deaths / 100 Cases  Recovered / 100 Cases  \\\n",
       "count   187.000000     187.000000          187.000000             187.000000   \n",
       "mean     28.957219     933.812834            3.019519              64.820535   \n",
       "std     120.037173    4197.719635            3.454302              26.287694   \n",
       "min       0.000000       0.000000            0.000000               0.000000   \n",
       "25%       0.000000       0.000000            0.945000              48.770000   \n",
       "50%       1.000000      22.000000            2.150000              71.320000   \n",
       "75%       6.000000     221.000000            3.875000              86.885000   \n",
       "max    1076.000000   33728.000000           28.560000             100.000000   \n",
       "\n",
       "       Deaths / 100 Recovered  Confirmed last week  1 week change  \\\n",
       "count                  187.00         1.870000e+02     187.000000   \n",
       "mean                      inf         7.868248e+04    9448.459893   \n",
       "std                       NaN         3.382737e+05   47491.127684   \n",
       "min                      0.00         1.000000e+01     -47.000000   \n",
       "25%                      1.45         1.051500e+03      49.000000   \n",
       "50%                      3.62         5.020000e+03     432.000000   \n",
       "75%                      6.44         3.708050e+04    3172.000000   \n",
       "max                       inf         3.834677e+06  455582.000000   \n",
       "\n",
       "       1 week % increase  \n",
       "count         187.000000  \n",
       "mean           13.606203  \n",
       "std            24.509838  \n",
       "min            -3.840000  \n",
       "25%             2.775000  \n",
       "50%             6.890000  \n",
       "75%            16.855000  \n",
       "max           226.320000  "
      ]
     },
     "execution_count": 10,
     "metadata": {},
     "output_type": "execute_result"
    }
   ],
   "source": [
    "data.describe()                          #Note:Returns numeric data       "
   ]
  },
  {
   "cell_type": "markdown",
   "id": "24a6ecac",
   "metadata": {
    "papermill": {
     "duration": 0.015847,
     "end_time": "2024-04-29T09:26:12.660777",
     "exception": false,
     "start_time": "2024-04-29T09:26:12.644930",
     "status": "completed"
    },
    "tags": []
   },
   "source": [
    "# Data Visualization"
   ]
  },
  {
   "cell_type": "markdown",
   "id": "a2b08d81",
   "metadata": {
    "papermill": {
     "duration": 0.012914,
     "end_time": "2024-04-29T09:26:12.687253",
     "exception": false,
     "start_time": "2024-04-29T09:26:12.674339",
     "status": "completed"
    },
    "tags": []
   },
   "source": [
    "**What are the total number of deaths recorded?**"
   ]
  },
  {
   "cell_type": "code",
   "execution_count": 11,
   "id": "d98f7fe4",
   "metadata": {
    "execution": {
     "iopub.execute_input": "2024-04-29T09:26:12.715170Z",
     "iopub.status.busy": "2024-04-29T09:26:12.714768Z",
     "iopub.status.idle": "2024-04-29T09:26:12.722207Z",
     "shell.execute_reply": "2024-04-29T09:26:12.721039Z"
    },
    "papermill": {
     "duration": 0.024026,
     "end_time": "2024-04-29T09:26:12.724526",
     "exception": false,
     "start_time": "2024-04-29T09:26:12.700500",
     "status": "completed"
    },
    "tags": []
   },
   "outputs": [
    {
     "data": {
      "text/plain": [
       "654036"
      ]
     },
     "execution_count": 11,
     "metadata": {},
     "output_type": "execute_result"
    }
   ],
   "source": [
    "data['Deaths'].sum()                                        #Total number of deaths recorded"
   ]
  },
  {
   "cell_type": "markdown",
   "id": "e41c2bf6",
   "metadata": {
    "papermill": {
     "duration": 0.013083,
     "end_time": "2024-04-29T09:26:12.751028",
     "exception": false,
     "start_time": "2024-04-29T09:26:12.737945",
     "status": "completed"
    },
    "tags": []
   },
   "source": [
    "**What is the aver̥age of recovered data?**"
   ]
  },
  {
   "cell_type": "code",
   "execution_count": 12,
   "id": "ba0be1fd",
   "metadata": {
    "execution": {
     "iopub.execute_input": "2024-04-29T09:26:12.779808Z",
     "iopub.status.busy": "2024-04-29T09:26:12.779405Z",
     "iopub.status.idle": "2024-04-29T09:26:12.786780Z",
     "shell.execute_reply": "2024-04-29T09:26:12.785626Z"
    },
    "papermill": {
     "duration": 0.024633,
     "end_time": "2024-04-29T09:26:12.789038",
     "exception": false,
     "start_time": "2024-04-29T09:26:12.764405",
     "status": "completed"
    },
    "tags": []
   },
   "outputs": [
    {
     "data": {
      "text/plain": [
       "50631.48128342246"
      ]
     },
     "execution_count": 12,
     "metadata": {},
     "output_type": "execute_result"
    }
   ],
   "source": [
    "data['Recovered'].mean()                                    #Average of the recovered persons"
   ]
  },
  {
   "cell_type": "code",
   "execution_count": 13,
   "id": "7dc4e6dc",
   "metadata": {
    "execution": {
     "iopub.execute_input": "2024-04-29T09:26:12.818884Z",
     "iopub.status.busy": "2024-04-29T09:26:12.818235Z",
     "iopub.status.idle": "2024-04-29T09:26:12.841658Z",
     "shell.execute_reply": "2024-04-29T09:26:12.840269Z"
    },
    "papermill": {
     "duration": 0.041027,
     "end_time": "2024-04-29T09:26:12.844302",
     "exception": false,
     "start_time": "2024-04-29T09:26:12.803275",
     "status": "completed"
    },
    "tags": []
   },
   "outputs": [
    {
     "data": {
      "text/html": [
       "<div>\n",
       "<style scoped>\n",
       "    .dataframe tbody tr th:only-of-type {\n",
       "        vertical-align: middle;\n",
       "    }\n",
       "\n",
       "    .dataframe tbody tr th {\n",
       "        vertical-align: top;\n",
       "    }\n",
       "\n",
       "    .dataframe thead th {\n",
       "        text-align: right;\n",
       "    }\n",
       "</style>\n",
       "<table border=\"1\" class=\"dataframe\">\n",
       "  <thead>\n",
       "    <tr style=\"text-align: right;\">\n",
       "      <th></th>\n",
       "      <th>Confirmed</th>\n",
       "      <th>Deaths</th>\n",
       "      <th>Recovered</th>\n",
       "      <th>Active</th>\n",
       "      <th>New cases</th>\n",
       "      <th>New deaths</th>\n",
       "      <th>New recovered</th>\n",
       "      <th>Deaths / 100 Cases</th>\n",
       "      <th>Recovered / 100 Cases</th>\n",
       "      <th>Deaths / 100 Recovered</th>\n",
       "      <th>Confirmed last week</th>\n",
       "      <th>1 week change</th>\n",
       "      <th>1 week % increase</th>\n",
       "      <th>WHO Region</th>\n",
       "    </tr>\n",
       "    <tr>\n",
       "      <th>Country/Region</th>\n",
       "      <th></th>\n",
       "      <th></th>\n",
       "      <th></th>\n",
       "      <th></th>\n",
       "      <th></th>\n",
       "      <th></th>\n",
       "      <th></th>\n",
       "      <th></th>\n",
       "      <th></th>\n",
       "      <th></th>\n",
       "      <th></th>\n",
       "      <th></th>\n",
       "      <th></th>\n",
       "      <th></th>\n",
       "    </tr>\n",
       "  </thead>\n",
       "  <tbody>\n",
       "    <tr>\n",
       "      <th>US</th>\n",
       "      <td>4290259</td>\n",
       "      <td>148011</td>\n",
       "      <td>1325804</td>\n",
       "      <td>2816444</td>\n",
       "      <td>56336</td>\n",
       "      <td>1076</td>\n",
       "      <td>27941</td>\n",
       "      <td>3.45</td>\n",
       "      <td>30.90</td>\n",
       "      <td>11.16</td>\n",
       "      <td>3834677</td>\n",
       "      <td>455582</td>\n",
       "      <td>11.88</td>\n",
       "      <td>Americas</td>\n",
       "    </tr>\n",
       "    <tr>\n",
       "      <th>Brazil</th>\n",
       "      <td>2442375</td>\n",
       "      <td>87618</td>\n",
       "      <td>1846641</td>\n",
       "      <td>508116</td>\n",
       "      <td>23284</td>\n",
       "      <td>614</td>\n",
       "      <td>33728</td>\n",
       "      <td>3.59</td>\n",
       "      <td>75.61</td>\n",
       "      <td>4.74</td>\n",
       "      <td>2118646</td>\n",
       "      <td>323729</td>\n",
       "      <td>15.28</td>\n",
       "      <td>Americas</td>\n",
       "    </tr>\n",
       "    <tr>\n",
       "      <th>India</th>\n",
       "      <td>1480073</td>\n",
       "      <td>33408</td>\n",
       "      <td>951166</td>\n",
       "      <td>495499</td>\n",
       "      <td>44457</td>\n",
       "      <td>637</td>\n",
       "      <td>33598</td>\n",
       "      <td>2.26</td>\n",
       "      <td>64.26</td>\n",
       "      <td>3.51</td>\n",
       "      <td>1155338</td>\n",
       "      <td>324735</td>\n",
       "      <td>28.11</td>\n",
       "      <td>South-East Asia</td>\n",
       "    </tr>\n",
       "    <tr>\n",
       "      <th>Russia</th>\n",
       "      <td>816680</td>\n",
       "      <td>13334</td>\n",
       "      <td>602249</td>\n",
       "      <td>201097</td>\n",
       "      <td>5607</td>\n",
       "      <td>85</td>\n",
       "      <td>3077</td>\n",
       "      <td>1.63</td>\n",
       "      <td>73.74</td>\n",
       "      <td>2.21</td>\n",
       "      <td>776212</td>\n",
       "      <td>40468</td>\n",
       "      <td>5.21</td>\n",
       "      <td>Europe</td>\n",
       "    </tr>\n",
       "    <tr>\n",
       "      <th>South Africa</th>\n",
       "      <td>452529</td>\n",
       "      <td>7067</td>\n",
       "      <td>274925</td>\n",
       "      <td>170537</td>\n",
       "      <td>7096</td>\n",
       "      <td>298</td>\n",
       "      <td>9848</td>\n",
       "      <td>1.56</td>\n",
       "      <td>60.75</td>\n",
       "      <td>2.57</td>\n",
       "      <td>373628</td>\n",
       "      <td>78901</td>\n",
       "      <td>21.12</td>\n",
       "      <td>Africa</td>\n",
       "    </tr>\n",
       "    <tr>\n",
       "      <th>...</th>\n",
       "      <td>...</td>\n",
       "      <td>...</td>\n",
       "      <td>...</td>\n",
       "      <td>...</td>\n",
       "      <td>...</td>\n",
       "      <td>...</td>\n",
       "      <td>...</td>\n",
       "      <td>...</td>\n",
       "      <td>...</td>\n",
       "      <td>...</td>\n",
       "      <td>...</td>\n",
       "      <td>...</td>\n",
       "      <td>...</td>\n",
       "      <td>...</td>\n",
       "    </tr>\n",
       "    <tr>\n",
       "      <th>Dominica</th>\n",
       "      <td>18</td>\n",
       "      <td>0</td>\n",
       "      <td>18</td>\n",
       "      <td>0</td>\n",
       "      <td>0</td>\n",
       "      <td>0</td>\n",
       "      <td>0</td>\n",
       "      <td>0.00</td>\n",
       "      <td>100.00</td>\n",
       "      <td>0.00</td>\n",
       "      <td>18</td>\n",
       "      <td>0</td>\n",
       "      <td>0.00</td>\n",
       "      <td>Americas</td>\n",
       "    </tr>\n",
       "    <tr>\n",
       "      <th>Saint Kitts and Nevis</th>\n",
       "      <td>17</td>\n",
       "      <td>0</td>\n",
       "      <td>15</td>\n",
       "      <td>2</td>\n",
       "      <td>0</td>\n",
       "      <td>0</td>\n",
       "      <td>0</td>\n",
       "      <td>0.00</td>\n",
       "      <td>88.24</td>\n",
       "      <td>0.00</td>\n",
       "      <td>17</td>\n",
       "      <td>0</td>\n",
       "      <td>0.00</td>\n",
       "      <td>Americas</td>\n",
       "    </tr>\n",
       "    <tr>\n",
       "      <th>Greenland</th>\n",
       "      <td>14</td>\n",
       "      <td>0</td>\n",
       "      <td>13</td>\n",
       "      <td>1</td>\n",
       "      <td>1</td>\n",
       "      <td>0</td>\n",
       "      <td>0</td>\n",
       "      <td>0.00</td>\n",
       "      <td>92.86</td>\n",
       "      <td>0.00</td>\n",
       "      <td>13</td>\n",
       "      <td>1</td>\n",
       "      <td>7.69</td>\n",
       "      <td>Europe</td>\n",
       "    </tr>\n",
       "    <tr>\n",
       "      <th>Holy See</th>\n",
       "      <td>12</td>\n",
       "      <td>0</td>\n",
       "      <td>12</td>\n",
       "      <td>0</td>\n",
       "      <td>0</td>\n",
       "      <td>0</td>\n",
       "      <td>0</td>\n",
       "      <td>0.00</td>\n",
       "      <td>100.00</td>\n",
       "      <td>0.00</td>\n",
       "      <td>12</td>\n",
       "      <td>0</td>\n",
       "      <td>0.00</td>\n",
       "      <td>Europe</td>\n",
       "    </tr>\n",
       "    <tr>\n",
       "      <th>Western Sahara</th>\n",
       "      <td>10</td>\n",
       "      <td>1</td>\n",
       "      <td>8</td>\n",
       "      <td>1</td>\n",
       "      <td>0</td>\n",
       "      <td>0</td>\n",
       "      <td>0</td>\n",
       "      <td>10.00</td>\n",
       "      <td>80.00</td>\n",
       "      <td>12.50</td>\n",
       "      <td>10</td>\n",
       "      <td>0</td>\n",
       "      <td>0.00</td>\n",
       "      <td>Africa</td>\n",
       "    </tr>\n",
       "  </tbody>\n",
       "</table>\n",
       "<p>187 rows × 14 columns</p>\n",
       "</div>"
      ],
      "text/plain": [
       "                       Confirmed  Deaths  Recovered   Active  New cases  \\\n",
       "Country/Region                                                            \n",
       "US                       4290259  148011    1325804  2816444      56336   \n",
       "Brazil                   2442375   87618    1846641   508116      23284   \n",
       "India                    1480073   33408     951166   495499      44457   \n",
       "Russia                    816680   13334     602249   201097       5607   \n",
       "South Africa              452529    7067     274925   170537       7096   \n",
       "...                          ...     ...        ...      ...        ...   \n",
       "Dominica                      18       0         18        0          0   \n",
       "Saint Kitts and Nevis         17       0         15        2          0   \n",
       "Greenland                     14       0         13        1          1   \n",
       "Holy See                      12       0         12        0          0   \n",
       "Western Sahara                10       1          8        1          0   \n",
       "\n",
       "                       New deaths  New recovered  Deaths / 100 Cases  \\\n",
       "Country/Region                                                         \n",
       "US                           1076          27941                3.45   \n",
       "Brazil                        614          33728                3.59   \n",
       "India                         637          33598                2.26   \n",
       "Russia                         85           3077                1.63   \n",
       "South Africa                  298           9848                1.56   \n",
       "...                           ...            ...                 ...   \n",
       "Dominica                        0              0                0.00   \n",
       "Saint Kitts and Nevis           0              0                0.00   \n",
       "Greenland                       0              0                0.00   \n",
       "Holy See                        0              0                0.00   \n",
       "Western Sahara                  0              0               10.00   \n",
       "\n",
       "                       Recovered / 100 Cases  Deaths / 100 Recovered  \\\n",
       "Country/Region                                                         \n",
       "US                                     30.90                   11.16   \n",
       "Brazil                                 75.61                    4.74   \n",
       "India                                  64.26                    3.51   \n",
       "Russia                                 73.74                    2.21   \n",
       "South Africa                           60.75                    2.57   \n",
       "...                                      ...                     ...   \n",
       "Dominica                              100.00                    0.00   \n",
       "Saint Kitts and Nevis                  88.24                    0.00   \n",
       "Greenland                              92.86                    0.00   \n",
       "Holy See                              100.00                    0.00   \n",
       "Western Sahara                         80.00                   12.50   \n",
       "\n",
       "                       Confirmed last week  1 week change  1 week % increase  \\\n",
       "Country/Region                                                                 \n",
       "US                                 3834677         455582              11.88   \n",
       "Brazil                             2118646         323729              15.28   \n",
       "India                              1155338         324735              28.11   \n",
       "Russia                              776212          40468               5.21   \n",
       "South Africa                        373628          78901              21.12   \n",
       "...                                    ...            ...                ...   \n",
       "Dominica                                18              0               0.00   \n",
       "Saint Kitts and Nevis                   17              0               0.00   \n",
       "Greenland                               13              1               7.69   \n",
       "Holy See                                12              0               0.00   \n",
       "Western Sahara                          10              0               0.00   \n",
       "\n",
       "                            WHO Region  \n",
       "Country/Region                          \n",
       "US                            Americas  \n",
       "Brazil                        Americas  \n",
       "India                  South-East Asia  \n",
       "Russia                          Europe  \n",
       "South Africa                    Africa  \n",
       "...                                ...  \n",
       "Dominica                      Americas  \n",
       "Saint Kitts and Nevis         Americas  \n",
       "Greenland                       Europe  \n",
       "Holy See                        Europe  \n",
       "Western Sahara                  Africa  \n",
       "\n",
       "[187 rows x 14 columns]"
      ]
     },
     "execution_count": 13,
     "metadata": {},
     "output_type": "execute_result"
    }
   ],
   "source": [
    "data1=data.sort_values('Confirmed',ascending=False)        #Sort by the values along either axis        \n",
    "data1"
   ]
  },
  {
   "cell_type": "markdown",
   "id": "f06b6d77",
   "metadata": {
    "papermill": {
     "duration": 0.013799,
     "end_time": "2024-04-29T09:26:12.872389",
     "exception": false,
     "start_time": "2024-04-29T09:26:12.858590",
     "status": "completed"
    },
    "tags": []
   },
   "source": [
    "**Which countries/regions are highly affected?**"
   ]
  },
  {
   "cell_type": "code",
   "execution_count": 14,
   "id": "9767cfff",
   "metadata": {
    "execution": {
     "iopub.execute_input": "2024-04-29T09:26:12.903130Z",
     "iopub.status.busy": "2024-04-29T09:26:12.902710Z",
     "iopub.status.idle": "2024-04-29T09:26:12.920779Z",
     "shell.execute_reply": "2024-04-29T09:26:12.919658Z"
    },
    "papermill": {
     "duration": 0.035999,
     "end_time": "2024-04-29T09:26:12.923175",
     "exception": false,
     "start_time": "2024-04-29T09:26:12.887176",
     "status": "completed"
    },
    "tags": []
   },
   "outputs": [
    {
     "data": {
      "text/html": [
       "<div>\n",
       "<style scoped>\n",
       "    .dataframe tbody tr th:only-of-type {\n",
       "        vertical-align: middle;\n",
       "    }\n",
       "\n",
       "    .dataframe tbody tr th {\n",
       "        vertical-align: top;\n",
       "    }\n",
       "\n",
       "    .dataframe thead th {\n",
       "        text-align: right;\n",
       "    }\n",
       "</style>\n",
       "<table border=\"1\" class=\"dataframe\">\n",
       "  <thead>\n",
       "    <tr style=\"text-align: right;\">\n",
       "      <th></th>\n",
       "      <th>Confirmed</th>\n",
       "      <th>Deaths</th>\n",
       "      <th>Recovered</th>\n",
       "      <th>Active</th>\n",
       "      <th>New cases</th>\n",
       "      <th>New deaths</th>\n",
       "      <th>New recovered</th>\n",
       "      <th>Deaths / 100 Cases</th>\n",
       "      <th>Recovered / 100 Cases</th>\n",
       "      <th>Deaths / 100 Recovered</th>\n",
       "      <th>Confirmed last week</th>\n",
       "      <th>1 week change</th>\n",
       "      <th>1 week % increase</th>\n",
       "      <th>WHO Region</th>\n",
       "    </tr>\n",
       "    <tr>\n",
       "      <th>Country/Region</th>\n",
       "      <th></th>\n",
       "      <th></th>\n",
       "      <th></th>\n",
       "      <th></th>\n",
       "      <th></th>\n",
       "      <th></th>\n",
       "      <th></th>\n",
       "      <th></th>\n",
       "      <th></th>\n",
       "      <th></th>\n",
       "      <th></th>\n",
       "      <th></th>\n",
       "      <th></th>\n",
       "      <th></th>\n",
       "    </tr>\n",
       "  </thead>\n",
       "  <tbody>\n",
       "    <tr>\n",
       "      <th>US</th>\n",
       "      <td>4290259</td>\n",
       "      <td>148011</td>\n",
       "      <td>1325804</td>\n",
       "      <td>2816444</td>\n",
       "      <td>56336</td>\n",
       "      <td>1076</td>\n",
       "      <td>27941</td>\n",
       "      <td>3.45</td>\n",
       "      <td>30.90</td>\n",
       "      <td>11.16</td>\n",
       "      <td>3834677</td>\n",
       "      <td>455582</td>\n",
       "      <td>11.88</td>\n",
       "      <td>Americas</td>\n",
       "    </tr>\n",
       "    <tr>\n",
       "      <th>Brazil</th>\n",
       "      <td>2442375</td>\n",
       "      <td>87618</td>\n",
       "      <td>1846641</td>\n",
       "      <td>508116</td>\n",
       "      <td>23284</td>\n",
       "      <td>614</td>\n",
       "      <td>33728</td>\n",
       "      <td>3.59</td>\n",
       "      <td>75.61</td>\n",
       "      <td>4.74</td>\n",
       "      <td>2118646</td>\n",
       "      <td>323729</td>\n",
       "      <td>15.28</td>\n",
       "      <td>Americas</td>\n",
       "    </tr>\n",
       "    <tr>\n",
       "      <th>India</th>\n",
       "      <td>1480073</td>\n",
       "      <td>33408</td>\n",
       "      <td>951166</td>\n",
       "      <td>495499</td>\n",
       "      <td>44457</td>\n",
       "      <td>637</td>\n",
       "      <td>33598</td>\n",
       "      <td>2.26</td>\n",
       "      <td>64.26</td>\n",
       "      <td>3.51</td>\n",
       "      <td>1155338</td>\n",
       "      <td>324735</td>\n",
       "      <td>28.11</td>\n",
       "      <td>South-East Asia</td>\n",
       "    </tr>\n",
       "    <tr>\n",
       "      <th>Russia</th>\n",
       "      <td>816680</td>\n",
       "      <td>13334</td>\n",
       "      <td>602249</td>\n",
       "      <td>201097</td>\n",
       "      <td>5607</td>\n",
       "      <td>85</td>\n",
       "      <td>3077</td>\n",
       "      <td>1.63</td>\n",
       "      <td>73.74</td>\n",
       "      <td>2.21</td>\n",
       "      <td>776212</td>\n",
       "      <td>40468</td>\n",
       "      <td>5.21</td>\n",
       "      <td>Europe</td>\n",
       "    </tr>\n",
       "    <tr>\n",
       "      <th>South Africa</th>\n",
       "      <td>452529</td>\n",
       "      <td>7067</td>\n",
       "      <td>274925</td>\n",
       "      <td>170537</td>\n",
       "      <td>7096</td>\n",
       "      <td>298</td>\n",
       "      <td>9848</td>\n",
       "      <td>1.56</td>\n",
       "      <td>60.75</td>\n",
       "      <td>2.57</td>\n",
       "      <td>373628</td>\n",
       "      <td>78901</td>\n",
       "      <td>21.12</td>\n",
       "      <td>Africa</td>\n",
       "    </tr>\n",
       "  </tbody>\n",
       "</table>\n",
       "</div>"
      ],
      "text/plain": [
       "                Confirmed  Deaths  Recovered   Active  New cases  New deaths  \\\n",
       "Country/Region                                                                 \n",
       "US                4290259  148011    1325804  2816444      56336        1076   \n",
       "Brazil            2442375   87618    1846641   508116      23284         614   \n",
       "India             1480073   33408     951166   495499      44457         637   \n",
       "Russia             816680   13334     602249   201097       5607          85   \n",
       "South Africa       452529    7067     274925   170537       7096         298   \n",
       "\n",
       "                New recovered  Deaths / 100 Cases  Recovered / 100 Cases  \\\n",
       "Country/Region                                                             \n",
       "US                      27941                3.45                  30.90   \n",
       "Brazil                  33728                3.59                  75.61   \n",
       "India                   33598                2.26                  64.26   \n",
       "Russia                   3077                1.63                  73.74   \n",
       "South Africa             9848                1.56                  60.75   \n",
       "\n",
       "                Deaths / 100 Recovered  Confirmed last week  1 week change  \\\n",
       "Country/Region                                                               \n",
       "US                               11.16              3834677         455582   \n",
       "Brazil                            4.74              2118646         323729   \n",
       "India                             3.51              1155338         324735   \n",
       "Russia                            2.21               776212          40468   \n",
       "South Africa                      2.57               373628          78901   \n",
       "\n",
       "                1 week % increase       WHO Region  \n",
       "Country/Region                                      \n",
       "US                          11.88         Americas  \n",
       "Brazil                      15.28         Americas  \n",
       "India                       28.11  South-East Asia  \n",
       "Russia                       5.21           Europe  \n",
       "South Africa                21.12           Africa  "
      ]
     },
     "execution_count": 14,
     "metadata": {},
     "output_type": "execute_result"
    }
   ],
   "source": [
    "data1.head()"
   ]
  },
  {
   "cell_type": "markdown",
   "id": "fd5197c7",
   "metadata": {
    "papermill": {
     "duration": 0.014317,
     "end_time": "2024-04-29T09:26:12.952096",
     "exception": false,
     "start_time": "2024-04-29T09:26:12.937779",
     "status": "completed"
    },
    "tags": []
   },
   "source": [
    "**Which countries/regions are least affected?**"
   ]
  },
  {
   "cell_type": "code",
   "execution_count": 15,
   "id": "41a3ba72",
   "metadata": {
    "execution": {
     "iopub.execute_input": "2024-04-29T09:26:12.983704Z",
     "iopub.status.busy": "2024-04-29T09:26:12.983051Z",
     "iopub.status.idle": "2024-04-29T09:26:13.001399Z",
     "shell.execute_reply": "2024-04-29T09:26:13.000285Z"
    },
    "papermill": {
     "duration": 0.036716,
     "end_time": "2024-04-29T09:26:13.003725",
     "exception": false,
     "start_time": "2024-04-29T09:26:12.967009",
     "status": "completed"
    },
    "tags": []
   },
   "outputs": [
    {
     "data": {
      "text/html": [
       "<div>\n",
       "<style scoped>\n",
       "    .dataframe tbody tr th:only-of-type {\n",
       "        vertical-align: middle;\n",
       "    }\n",
       "\n",
       "    .dataframe tbody tr th {\n",
       "        vertical-align: top;\n",
       "    }\n",
       "\n",
       "    .dataframe thead th {\n",
       "        text-align: right;\n",
       "    }\n",
       "</style>\n",
       "<table border=\"1\" class=\"dataframe\">\n",
       "  <thead>\n",
       "    <tr style=\"text-align: right;\">\n",
       "      <th></th>\n",
       "      <th>Confirmed</th>\n",
       "      <th>Deaths</th>\n",
       "      <th>Recovered</th>\n",
       "      <th>Active</th>\n",
       "      <th>New cases</th>\n",
       "      <th>New deaths</th>\n",
       "      <th>New recovered</th>\n",
       "      <th>Deaths / 100 Cases</th>\n",
       "      <th>Recovered / 100 Cases</th>\n",
       "      <th>Deaths / 100 Recovered</th>\n",
       "      <th>Confirmed last week</th>\n",
       "      <th>1 week change</th>\n",
       "      <th>1 week % increase</th>\n",
       "      <th>WHO Region</th>\n",
       "    </tr>\n",
       "    <tr>\n",
       "      <th>Country/Region</th>\n",
       "      <th></th>\n",
       "      <th></th>\n",
       "      <th></th>\n",
       "      <th></th>\n",
       "      <th></th>\n",
       "      <th></th>\n",
       "      <th></th>\n",
       "      <th></th>\n",
       "      <th></th>\n",
       "      <th></th>\n",
       "      <th></th>\n",
       "      <th></th>\n",
       "      <th></th>\n",
       "      <th></th>\n",
       "    </tr>\n",
       "  </thead>\n",
       "  <tbody>\n",
       "    <tr>\n",
       "      <th>Dominica</th>\n",
       "      <td>18</td>\n",
       "      <td>0</td>\n",
       "      <td>18</td>\n",
       "      <td>0</td>\n",
       "      <td>0</td>\n",
       "      <td>0</td>\n",
       "      <td>0</td>\n",
       "      <td>0.0</td>\n",
       "      <td>100.00</td>\n",
       "      <td>0.0</td>\n",
       "      <td>18</td>\n",
       "      <td>0</td>\n",
       "      <td>0.00</td>\n",
       "      <td>Americas</td>\n",
       "    </tr>\n",
       "    <tr>\n",
       "      <th>Saint Kitts and Nevis</th>\n",
       "      <td>17</td>\n",
       "      <td>0</td>\n",
       "      <td>15</td>\n",
       "      <td>2</td>\n",
       "      <td>0</td>\n",
       "      <td>0</td>\n",
       "      <td>0</td>\n",
       "      <td>0.0</td>\n",
       "      <td>88.24</td>\n",
       "      <td>0.0</td>\n",
       "      <td>17</td>\n",
       "      <td>0</td>\n",
       "      <td>0.00</td>\n",
       "      <td>Americas</td>\n",
       "    </tr>\n",
       "    <tr>\n",
       "      <th>Greenland</th>\n",
       "      <td>14</td>\n",
       "      <td>0</td>\n",
       "      <td>13</td>\n",
       "      <td>1</td>\n",
       "      <td>1</td>\n",
       "      <td>0</td>\n",
       "      <td>0</td>\n",
       "      <td>0.0</td>\n",
       "      <td>92.86</td>\n",
       "      <td>0.0</td>\n",
       "      <td>13</td>\n",
       "      <td>1</td>\n",
       "      <td>7.69</td>\n",
       "      <td>Europe</td>\n",
       "    </tr>\n",
       "    <tr>\n",
       "      <th>Holy See</th>\n",
       "      <td>12</td>\n",
       "      <td>0</td>\n",
       "      <td>12</td>\n",
       "      <td>0</td>\n",
       "      <td>0</td>\n",
       "      <td>0</td>\n",
       "      <td>0</td>\n",
       "      <td>0.0</td>\n",
       "      <td>100.00</td>\n",
       "      <td>0.0</td>\n",
       "      <td>12</td>\n",
       "      <td>0</td>\n",
       "      <td>0.00</td>\n",
       "      <td>Europe</td>\n",
       "    </tr>\n",
       "    <tr>\n",
       "      <th>Western Sahara</th>\n",
       "      <td>10</td>\n",
       "      <td>1</td>\n",
       "      <td>8</td>\n",
       "      <td>1</td>\n",
       "      <td>0</td>\n",
       "      <td>0</td>\n",
       "      <td>0</td>\n",
       "      <td>10.0</td>\n",
       "      <td>80.00</td>\n",
       "      <td>12.5</td>\n",
       "      <td>10</td>\n",
       "      <td>0</td>\n",
       "      <td>0.00</td>\n",
       "      <td>Africa</td>\n",
       "    </tr>\n",
       "  </tbody>\n",
       "</table>\n",
       "</div>"
      ],
      "text/plain": [
       "                       Confirmed  Deaths  Recovered  Active  New cases  \\\n",
       "Country/Region                                                           \n",
       "Dominica                      18       0         18       0          0   \n",
       "Saint Kitts and Nevis         17       0         15       2          0   \n",
       "Greenland                     14       0         13       1          1   \n",
       "Holy See                      12       0         12       0          0   \n",
       "Western Sahara                10       1          8       1          0   \n",
       "\n",
       "                       New deaths  New recovered  Deaths / 100 Cases  \\\n",
       "Country/Region                                                         \n",
       "Dominica                        0              0                 0.0   \n",
       "Saint Kitts and Nevis           0              0                 0.0   \n",
       "Greenland                       0              0                 0.0   \n",
       "Holy See                        0              0                 0.0   \n",
       "Western Sahara                  0              0                10.0   \n",
       "\n",
       "                       Recovered / 100 Cases  Deaths / 100 Recovered  \\\n",
       "Country/Region                                                         \n",
       "Dominica                              100.00                     0.0   \n",
       "Saint Kitts and Nevis                  88.24                     0.0   \n",
       "Greenland                              92.86                     0.0   \n",
       "Holy See                              100.00                     0.0   \n",
       "Western Sahara                         80.00                    12.5   \n",
       "\n",
       "                       Confirmed last week  1 week change  1 week % increase  \\\n",
       "Country/Region                                                                 \n",
       "Dominica                                18              0               0.00   \n",
       "Saint Kitts and Nevis                   17              0               0.00   \n",
       "Greenland                               13              1               7.69   \n",
       "Holy See                                12              0               0.00   \n",
       "Western Sahara                          10              0               0.00   \n",
       "\n",
       "                      WHO Region  \n",
       "Country/Region                    \n",
       "Dominica                Americas  \n",
       "Saint Kitts and Nevis   Americas  \n",
       "Greenland                 Europe  \n",
       "Holy See                  Europe  \n",
       "Western Sahara            Africa  "
      ]
     },
     "execution_count": 15,
     "metadata": {},
     "output_type": "execute_result"
    }
   ],
   "source": [
    "data1.tail()"
   ]
  },
  {
   "cell_type": "markdown",
   "id": "aa953496",
   "metadata": {
    "papermill": {
     "duration": 0.014699,
     "end_time": "2024-04-29T09:26:13.033426",
     "exception": false,
     "start_time": "2024-04-29T09:26:13.018727",
     "status": "completed"
    },
    "tags": []
   },
   "source": [
    "**What is the count of new cases in accordance with WHO Region?**"
   ]
  },
  {
   "cell_type": "code",
   "execution_count": 16,
   "id": "dc523f8c",
   "metadata": {
    "execution": {
     "iopub.execute_input": "2024-04-29T09:26:13.065448Z",
     "iopub.status.busy": "2024-04-29T09:26:13.064763Z",
     "iopub.status.idle": "2024-04-29T09:26:13.650052Z",
     "shell.execute_reply": "2024-04-29T09:26:13.648932Z"
    },
    "papermill": {
     "duration": 0.604355,
     "end_time": "2024-04-29T09:26:13.652787",
     "exception": false,
     "start_time": "2024-04-29T09:26:13.048432",
     "status": "completed"
    },
    "tags": []
   },
   "outputs": [
    {
     "data": {
      "image/png": "[encoded data removed]",
      "text/plain": [
       "<Figure size 640x480 with 1 Axes>"
      ]
     },
     "metadata": {},
     "output_type": "display_data"
    },
    {
     "data": {
      "text/plain": [
       "<Figure size 1800x1200 with 0 Axes>"
      ]
     },
     "metadata": {},
     "output_type": "display_data"
    }
   ],
   "source": [
    "labels=data['WHO Region']\n",
    "values=data['New cases']\n",
    "bars=plt.bar(labels,values,color='g')\n",
    "plt.title('Total number of New cases')                           #Note:Labelling the data\n",
    "plt.xlabel('X Axis')                                             #Note:Labelling the x-axis\n",
    "plt.ylabel('Y Axis')                                             #Note:Labelling the y-axis\n",
    "plt.figure(figsize=(6,4),dpi=300)                                #Note:Determing the figure size\n",
    "plt.show()"
   ]
  },
  {
   "cell_type": "markdown",
   "id": "216eff60",
   "metadata": {
    "papermill": {
     "duration": 0.015201,
     "end_time": "2024-04-29T09:26:13.683556",
     "exception": false,
     "start_time": "2024-04-29T09:26:13.668355",
     "status": "completed"
    },
    "tags": []
   },
   "source": [
    "**It results that the total number of new cases was highly are recorded in America and South-East Asia**"
   ]
  },
  {
   "cell_type": "markdown",
   "id": "b7ae5727",
   "metadata": {
    "papermill": {
     "duration": 0.015149,
     "end_time": "2024-04-29T09:26:13.714309",
     "exception": false,
     "start_time": "2024-04-29T09:26:13.699160",
     "status": "completed"
    },
    "tags": []
   },
   "source": [
    "**What is the weekly percentage increase?**"
   ]
  },
  {
   "cell_type": "code",
   "execution_count": 17,
   "id": "3106048d",
   "metadata": {
    "execution": {
     "iopub.execute_input": "2024-04-29T09:26:13.748192Z",
     "iopub.status.busy": "2024-04-29T09:26:13.747774Z",
     "iopub.status.idle": "2024-04-29T09:26:14.077430Z",
     "shell.execute_reply": "2024-04-29T09:26:14.076309Z"
    },
    "papermill": {
     "duration": 0.349626,
     "end_time": "2024-04-29T09:26:14.079954",
     "exception": false,
     "start_time": "2024-04-29T09:26:13.730328",
     "status": "completed"
    },
    "tags": []
   },
   "outputs": [
    {
     "data": {
      "image/png": "[encoded data removed]",
      "text/plain": [
       "<Figure size 640x480 with 1 Axes>"
      ]
     },
     "metadata": {},
     "output_type": "display_data"
    },
    {
     "data": {
      "text/plain": [
       "<Figure size 600x400 with 0 Axes>"
      ]
     },
     "metadata": {},
     "output_type": "display_data"
    }
   ],
   "source": [
    "bins=[10,20,30,40,50,60,70,80,90,100]\n",
    "plt.hist(data['1 week % increase'],bins=bins,color='c')\n",
    "plt.title('Weekly percentage increase')                             #Note:Labelling the data                        \n",
    "plt.xlabel('count')                                                 #Note:Labelling the x-axis\n",
    "plt.ylabel('%increase')                                             #Note:Labelling the y-axis\n",
    "plt.xticks(bins)\n",
    "plt.figure(figsize=(6,4))                                           #Note:Determing the figure size\n",
    "plt.show()"
   ]
  },
  {
   "cell_type": "markdown",
   "id": "7b94097b",
   "metadata": {
    "papermill": {
     "duration": 0.016109,
     "end_time": "2024-04-29T09:26:14.112722",
     "exception": false,
     "start_time": "2024-04-29T09:26:14.096613",
     "status": "completed"
    },
    "tags": []
   },
   "source": [
    "****It results that the weekly percentage increse is decreasing with increase in the count ******"
   ]
  },
  {
   "cell_type": "markdown",
   "id": "6c6c34c7",
   "metadata": {
    "papermill": {
     "duration": 0.017633,
     "end_time": "2024-04-29T09:26:14.146982",
     "exception": false,
     "start_time": "2024-04-29T09:26:14.129349",
     "status": "completed"
    },
    "tags": []
   },
   "source": [
    "**What is the relative rate of Death and Recovery rate?**"
   ]
  },
  {
   "cell_type": "code",
   "execution_count": 18,
   "id": "3bfad06c",
   "metadata": {
    "execution": {
     "iopub.execute_input": "2024-04-29T09:26:14.181918Z",
     "iopub.status.busy": "2024-04-29T09:26:14.181231Z",
     "iopub.status.idle": "2024-04-29T09:26:14.508470Z",
     "shell.execute_reply": "2024-04-29T09:26:14.507398Z"
    },
    "papermill": {
     "duration": 0.348511,
     "end_time": "2024-04-29T09:26:14.511928",
     "exception": false,
     "start_time": "2024-04-29T09:26:14.163417",
     "status": "completed"
    },
    "tags": []
   },
   "outputs": [
    {
     "data": {
      "image/png": "[encoded data removed]",
      "text/plain": [
       "<Figure size 750x450 with 1 Axes>"
      ]
     },
     "metadata": {},
     "output_type": "display_data"
    }
   ],
   "source": [
    "plt.figure(figsize=(5,3),dpi=150)\n",
    "plt.plot(data['Deaths'],data['WHO Region'],color='m')\n",
    "plt.plot(data['Recovered'],data['WHO Region'],color='y')\n",
    "plt.title('The death and recovery rate')\n",
    "plt.xlabel('Count')\n",
    "plt.ylabel('WHO Region')\n",
    "plt.legend(['Deaths','Recovered'])\n",
    "plt.show()"
   ]
  },
  {
   "cell_type": "markdown",
   "id": "f626488b",
   "metadata": {
    "papermill": {
     "duration": 0.017532,
     "end_time": "2024-04-29T09:26:14.547392",
     "exception": false,
     "start_time": "2024-04-29T09:26:14.529860",
     "status": "completed"
    },
    "tags": []
   },
   "source": [
    "**What is the relative rate of New deaths and New recovered data?**"
   ]
  },
  {
   "cell_type": "code",
   "execution_count": 19,
   "id": "4e3e131d",
   "metadata": {
    "execution": {
     "iopub.execute_input": "2024-04-29T09:26:14.585732Z",
     "iopub.status.busy": "2024-04-29T09:26:14.584614Z",
     "iopub.status.idle": "2024-04-29T09:26:15.282031Z",
     "shell.execute_reply": "2024-04-29T09:26:15.280978Z"
    },
    "papermill": {
     "duration": 0.719423,
     "end_time": "2024-04-29T09:26:15.284800",
     "exception": false,
     "start_time": "2024-04-29T09:26:14.565377",
     "status": "completed"
    },
    "tags": []
   },
   "outputs": [
    {
     "data": {
      "image/png": "[encoded data removed]",
      "text/plain": [
       "<Figure size 750x450 with 1 Axes>"
      ]
     },
     "metadata": {},
     "output_type": "display_data"
    }
   ],
   "source": [
    "plt.figure(figsize=(5,3),dpi=150)\n",
    "labels=data['New deaths']\n",
    "values=data['New recovered']\n",
    "bars=plt.bar(labels,values,width=50,color='#abcdef',edgecolor='c')\n",
    "plt.title('The New deaths and New recovered data')\n",
    "plt.xlabel('New deaths')\n",
    "plt.ylabel('New recovered')\n",
    "plt.legend(['New deaths','New recovered'])\n",
    "plt.show()"
   ]
  },
  {
   "cell_type": "markdown",
   "id": "2bc62a65",
   "metadata": {
    "papermill": {
     "duration": 0.018704,
     "end_time": "2024-04-29T09:26:15.322263",
     "exception": false,
     "start_time": "2024-04-29T09:26:15.303559",
     "status": "completed"
    },
    "tags": []
   },
   "source": [
    "**By the results we can conclude that the recovery rate is higher than the death rate**"
   ]
  },
  {
   "cell_type": "markdown",
   "id": "0bc14286",
   "metadata": {
    "papermill": {
     "duration": 0.01916,
     "end_time": "2024-04-29T09:26:15.360572",
     "exception": false,
     "start_time": "2024-04-29T09:26:15.341412",
     "status": "completed"
    },
    "tags": []
   },
   "source": [
    "# Summary"
   ]
  },
  {
   "cell_type": "markdown",
   "id": "84de6834",
   "metadata": {
    "papermill": {
     "duration": 0.018186,
     "end_time": "2024-04-29T09:26:15.398402",
     "exception": false,
     "start_time": "2024-04-29T09:26:15.380216",
     "status": "completed"
    },
    "tags": []
   },
   "source": [
    "**We had analysed the worldwide COVID-19 dataset by importing various libraries.After visualizing the dataset we can conclude that the total deaths recorded were\"654036\",the highly affected countries/regions are USA,Brazil and least affected are Holy See and Western Sahara.The new cases was highly are recorded in America and South-East Asia.In comparision between the new deaths and new recovery rate the recovery rate is higher than the death rate.**"
   ]
  }
 ],
 "metadata": {
  "kaggle": {
   "accelerator": "none",
   "dataSources": [
    {
     "datasetId": 494766,
     "sourceId": 1402868,
     "sourceType": "datasetVersion"
    }
   ],
   "dockerImageVersionId": 30698,
   "isGpuEnabled": false,
   "isInternetEnabled": true,
   "language": "python",
   "sourceType": "notebook"
  },
  "kernelspec": {
   "display_name": "Python 3",
   "language": "python",
   "name": "python3"
  },
  "language_info": {
   "codemirror_mode": {
    "name": "ipython",
    "version": 3
   },
   "file_extension": ".py",
   "mimetype": "text/x-python",
   "name": "python",
   "nbconvert_exporter": "python",
   "pygments_lexer": "ipython3",
   "version": "3.10.13"
  },
  "papermill": {
   "default_parameters": {},
   "duration": 8.17837,
   "end_time": "2024-04-29T09:26:15.937972",
   "environment_variables": {},
   "exception": null,
   "input_path": "__notebook__.ipynb",
   "output_path": "__notebook__.ipynb",
   "parameters": {},
   "start_time": "2024-04-29T09:26:07.759602",
   "version": "2.5.0"
  }
 },
 "nbformat": 4,
 "nbformat_minor": 5
}
